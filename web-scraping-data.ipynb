{
 "cells": [
  {
   "cell_type": "code",
   "execution_count": 53,
   "metadata": {},
   "outputs": [],
   "source": [
    "from bs4 import BeautifulSoup\n",
    "import requests"
   ]
  },
  {
   "cell_type": "code",
   "execution_count": 54,
   "metadata": {},
   "outputs": [
    {
     "name": "stdout",
     "output_type": "stream",
     "text": [
      "<Response [200]>\n"
     ]
    }
   ],
   "source": [
    "url = 'http://dgdagov.info/index.php/pharmacies/allopathic-retail-pharmacy'\n",
    "\n",
    "page = requests.get(url)\n",
    "print(page)"
   ]
  },
  {
   "cell_type": "code",
   "execution_count": 55,
   "metadata": {},
   "outputs": [],
   "source": [
    "soup = BeautifulSoup(page.text, 'html.parser')"
   ]
  },
  {
   "cell_type": "code",
   "execution_count": 56,
   "metadata": {},
   "outputs": [],
   "source": [
    "# print(soup.prettify())"
   ]
  },
  {
   "cell_type": "code",
   "execution_count": 57,
   "metadata": {},
   "outputs": [
    {
     "name": "stdout",
     "output_type": "stream",
     "text": [
      "<table border=\"0\" cellpadding=\"0\" cellspacing=\"0\" class=\"display\" id=\"gridData\">\n",
      "<thead>\n",
      "<tr>\n",
      "<th>#SL</th>\n",
      "<th>#SL</th>\n",
      "<th style=\"text-align:left;\">District Name</th>\n",
      "<th style=\"text-align:left;\">Upazila/Thana Name</th>\n",
      "<th style=\"text-align:left;\">Pharmacy Name</th>\n",
      "<th style=\"text-align:left;\">License No</th>\n",
      "<th style=\"text-align:left;\">New License</th>\n",
      "<th style=\"text-align:center;\">Date of Renewal</th>\n",
      "<th style=\"text-align:center;\">Valid Upto</th>\n",
      "<th>More</th>\n",
      "</tr>\n",
      "</thead>\n",
      "<tbody></tbody>\n",
      "</table>\n"
     ]
    }
   ],
   "source": [
    "# <table cellpadding=\"0\" cellspacing=\"0\" border=\"0\" class=\"display dataTable\" id=\"gridData\" aria-describedby=\"gridData_info\" style=\"margin-left: 0px; width: 782px;\">\n",
    "table = soup.find('table', {'id': 'gridData'})\n",
    "print(table)"
   ]
  },
  {
   "cell_type": "code",
   "execution_count": 58,
   "metadata": {},
   "outputs": [
    {
     "name": "stdout",
     "output_type": "stream",
     "text": [
      "['#SL', '#SL', 'District Name', 'Upazila/Thana Name', 'Pharmacy Name', 'License No', 'New License', 'Date of Renewal', 'Valid Upto', 'More']\n"
     ]
    }
   ],
   "source": [
    "rows = table.find_all('tr')\n",
    "for row in rows:\n",
    "    cells = row.find_all('th')\n",
    "    \n",
    "    if cells:\n",
    "        row_data = [cell.text.strip() for cell in cells]\n",
    "        print(row_data)\n",
    "    else:\n",
    "        print('no data cells found in this row')"
   ]
  },
  {
   "cell_type": "code",
   "execution_count": 62,
   "metadata": {},
   "outputs": [
    {
     "name": "stdout",
     "output_type": "stream",
     "text": [
      "['#SL', '#SL', 'District Name', 'Upazila/Thana Name', 'Pharmacy Name', 'License No', 'New License', 'Date of Renewal', 'Valid Upto', 'More']\n"
     ]
    }
   ],
   "source": [
    "response = requests.get(url)\n",
    "# Find the table based on its attributes\n",
    "table = soup.find('table', {'id': 'gridData'})\n",
    "if response.status_code == 200:\n",
    "    soup = BeautifulSoup(response.text, 'html.parser')\n",
    "    if table:\n",
    "        # Extract data from the table\n",
    "        rows = table.find_all('tr')\n",
    "\n",
    "        for row in rows:\n",
    "            # Extract data from each cell in the row\n",
    "            cells = row.find_all(['th', 'td'])  # Include both th and td elements\n",
    "            row_data = [cell.text.strip() for cell in cells]\n",
    "\n",
    "            # Do something with the extracted data, e.g., print it\n",
    "            print(row_data)\n",
    "\n",
    "    else:\n",
    "        print(\"Table with id 'gridData' not found on the page.\")\n",
    "else:\n",
    "    print(f\"Failed to retrieve the webpage. Status code: {response.status_code}\")"
   ]
  },
  {
   "cell_type": "code",
   "execution_count": null,
   "metadata": {},
   "outputs": [],
   "source": []
  }
 ],
 "metadata": {
  "kernelspec": {
   "display_name": "Python 3",
   "language": "python",
   "name": "python3"
  },
  "language_info": {
   "codemirror_mode": {
    "name": "ipython",
    "version": 3
   },
   "file_extension": ".py",
   "mimetype": "text/x-python",
   "name": "python",
   "nbconvert_exporter": "python",
   "pygments_lexer": "ipython3",
   "version": "3.11.6"
  }
 },
 "nbformat": 4,
 "nbformat_minor": 2
}
